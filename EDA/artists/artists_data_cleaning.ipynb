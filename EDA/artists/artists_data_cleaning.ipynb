{
 "cells": [
  {
   "attachments": {},
   "cell_type": "markdown",
   "metadata": {},
   "source": [
    "<center><h1>Artists Data Cleaning</h1></center>"
   ]
  },
  {
   "attachments": {},
   "cell_type": "markdown",
   "metadata": {},
   "source": [
    "The goal of this notebook is to prepare the artist dataset for the creation of a machine learning model. To achieve this goal, a data cleaning process will be performed that will address the problems identified in the exploratory data analysis notebook (artists_data_analysis.ipynb). This cleaning process will be based on the detection and correction of null values, outliers, errors, and duplicates.\n",
    "\n",
    "After completing the cleaning process, a second exploratory data analysis will be performed to verify that the problems identified in the first analysis have been resolved. This second exploratory data analysis will be used to validate the cleaned data and detect any additional problems that may have arisen during the cleaning process. The cleaning process is divided into several stages, including:\n",
    "\n",
    "- Data formatting and type conversion\n",
    "- Handling duplicates\n",
    "- Handling missing values \n",
    "- Handling outliers\n",
    "- Data transformation and feature engineering"
   ]
  },
  {
   "cell_type": "code",
   "execution_count": 1,
   "metadata": {},
   "outputs": [],
   "source": [
    "# Import necessary libraries\n",
    "import pandas as pd \n",
    "import matplotlib.pyplot as plt\n",
    "import seaborn as sns"
   ]
  },
  {
   "cell_type": "code",
   "execution_count": 2,
   "metadata": {},
   "outputs": [],
   "source": [
    "# Read data\n",
    "url = \"https://drive.google.com/file/d/1frEhHHnMbib-f56jSNu_aDjxKRqtAcuZ/view?usp=share_link\"\n",
    "file_id=url.split('/')[-2]\n",
    "dwn_url='https://drive.google.com/uc?id=' + file_id\n",
    "artists_df = pd.read_csv(dwn_url)"
   ]
  }
 ],
 "metadata": {
  "kernelspec": {
   "display_name": "Python 3",
   "language": "python",
   "name": "python3"
  },
  "language_info": {
   "codemirror_mode": {
    "name": "ipython",
    "version": 3
   },
   "file_extension": ".py",
   "mimetype": "text/x-python",
   "name": "python",
   "nbconvert_exporter": "python",
   "pygments_lexer": "ipython3",
   "version": "3.10.10"
  },
  "orig_nbformat": 4,
  "vscode": {
   "interpreter": {
    "hash": "e99879dcb45c3dfc19c806bcf57fd85bbfd77f3ca94ccb3896f2922028cbc2ac"
   }
  }
 },
 "nbformat": 4,
 "nbformat_minor": 2
}
